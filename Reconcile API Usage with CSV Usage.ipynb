{
 "cells": [
  {
   "cell_type": "markdown",
   "metadata": {},
   "source": [
    "## Reconcile API Usage with CSV Usage\n",
    "\n",
    "Load the usage as reported by the API and reconcile with the usage as given on the billing CSV.\n",
    "\n",
    "This notebook takes the results from two other notebooks and reconciles the reported usage \n",
    "differences. One of the source notebooks, [Load Azure Usage CSV.ipynb](Load%20Azure%20Usage%20CSV.ipynb), uses the billing CSV export feature of the Azure admin portal. \n",
    "The other, [Load Azure Daily Usage for Month to Match Invoice.ipynb](Load%20Azure%20Daily%20Usage%20for%20Month%20to%20Match%20Invoice.ipynb),  uses an Azure API. Currently, this reconcilliation reports some differences for the two \n",
    "sources that are likely due to discounts or included usage credits for the affected resources. "
   ]
  },
  {
   "cell_type": "code",
   "execution_count": null,
   "metadata": {},
   "outputs": [],
   "source": [
    "import pickle\n",
    "import pandas as pd\n",
    "import numpy as np"
   ]
  },
  {
   "cell_type": "code",
   "execution_count": null,
   "metadata": {},
   "outputs": [],
   "source": [
    "# load data processed from related notebooks\n",
    "\n",
    "# data from CSV downloaded from Azure portal\n",
    "df_daily_usage_csv = pickle.load( open( \"df_daily_usage.p\", \"rb\" ) )\n",
    "\n",
    "# data from Azure billing API Azure\n",
    "df_invoice_daily_usage = pickle.load( open( \"df_invoice_daily_usage.p\", \"rb\" ) )"
   ]
  },
  {
   "cell_type": "code",
   "execution_count": null,
   "metadata": {},
   "outputs": [],
   "source": [
    "df_daily_usage_csv.columns"
   ]
  },
  {
   "cell_type": "code",
   "execution_count": null,
   "metadata": {},
   "outputs": [],
   "source": [
    "df_invoice_daily_usage.columns"
   ]
  },
  {
   "cell_type": "code",
   "execution_count": null,
   "metadata": {},
   "outputs": [],
   "source": [
    "# compare the two datasets joining on resource and usage date\n",
    "result = pd.merge(df_daily_usage_csv,\n",
    "    df_invoice_daily_usage,\n",
    "    left_on=['Usage Date','Meter Id'], right_on = ['usageStartTime','meterId'],\n",
    "    how='outer', \n",
    "    indicator=True)"
   ]
  },
  {
   "cell_type": "code",
   "execution_count": null,
   "metadata": {},
   "outputs": [],
   "source": [
    "len(result)"
   ]
  },
  {
   "cell_type": "code",
   "execution_count": null,
   "metadata": {},
   "outputs": [],
   "source": [
    "# this is a kludge\n",
    "# I can't figure out how the join is delivering multiple rows on the merge, so I'm dropping duplicates\n",
    "result = result.drop_duplicates(subset=['Meter Id', 'Usage Date', 'usageStartTime', 'meterId'])\n",
    "len(result)"
   ]
  },
  {
   "cell_type": "code",
   "execution_count": null,
   "metadata": {},
   "outputs": [],
   "source": [
    "result.dtypes"
   ]
  },
  {
   "cell_type": "code",
   "execution_count": null,
   "metadata": {},
   "outputs": [],
   "source": [
    "# add a percent differnce column to compare the usage \n",
    "result['pct_diff'] = result.apply(lambda row: (row['Consumed Quantity'] - row['quantity']) / row['quantity'], axis=1)"
   ]
  },
  {
   "cell_type": "code",
   "execution_count": null,
   "metadata": {},
   "outputs": [],
   "source": [
    "# The resouces and dates match if all rows '_merge' is both. _merge would \n",
    "# be 'right only' or 'left only' if a given resouce-date tuple is only in the CSV or\n",
    " # only in the API\n",
    "result[['Usage Date', 'Meter Id', 'usageStartTime', 'meterId', 'Consumed Quantity', 'quantity', 'pct_diff', '_merge']]"
   ]
  },
  {
   "cell_type": "code",
   "execution_count": null,
   "metadata": {},
   "outputs": [],
   "source": [
    "# show results with percent difference between CSV source and API source > 0.0\n",
    "result.loc[result['pct_diff'] > 0.000001][['Usage Date', 'Meter Id', 'usageStartTime', 'meterId', 'Consumed Quantity', 'quantity', 'pct_diff', '_merge']]"
   ]
  },
  {
   "cell_type": "code",
   "execution_count": null,
   "metadata": {},
   "outputs": [],
   "source": [
    "one_res = result.loc[result['meterId'] == '65d4ded2-41ae-43a8-bb68-3c200e1ba864'][['Usage Date', 'Meter Id', 'usageStartTime', 'meterId', 'Consumed Quantity', 'quantity', 'pct_diff']]\n",
    "one_res"
   ]
  }
 ],
 "metadata": {
  "kernelspec": {
   "display_name": "Python 3",
   "language": "python",
   "name": "python3"
  },
  "language_info": {
   "codemirror_mode": {
    "name": "ipython",
    "version": 3
   },
   "file_extension": ".py",
   "mimetype": "text/x-python",
   "name": "python",
   "nbconvert_exporter": "python",
   "pygments_lexer": "ipython3",
   "version": "3.6.5"
  }
 },
 "nbformat": 4,
 "nbformat_minor": 2
}
