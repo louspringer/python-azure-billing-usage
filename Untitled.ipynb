{
 "cells": [
  {
   "cell_type": "code",
   "execution_count": 1,
   "metadata": {},
   "outputs": [],
   "source": [
    "import pickle\n",
    "import pandas as pd\n",
    "import numpy as np"
   ]
  },
  {
   "cell_type": "code",
   "execution_count": 3,
   "metadata": {},
   "outputs": [],
   "source": [
    "df_usage = pickle.load( open( \"df_usage.p\", \"rb\" ) )"
   ]
  },
  {
   "cell_type": "code",
   "execution_count": 6,
   "metadata": {},
   "outputs": [
    {
     "data": {
      "text/plain": [
       "id            /subscriptions/3e6b71a1-1c47-4188-a4dc-793259a...\n",
       "name                                  Daily_BRSDT_20180612_0000\n",
       "properties    {'subscriptionId': '3e6b71a1-1c47-4188-a4dc-79...\n",
       "type                          Microsoft.Commerce/UsageAggregate\n",
       "Name: 0, dtype: object"
      ]
     },
     "execution_count": 6,
     "metadata": {},
     "output_type": "execute_result"
    }
   ],
   "source": [
    "df_usage.iloc[0]"
   ]
  },
  {
   "cell_type": "code",
   "execution_count": 5,
   "metadata": {},
   "outputs": [
    {
     "data": {
      "text/plain": [
       "{'subscriptionId': '3e6b71a1-1c47-4188-a4dc-793259a87549',\n",
       " 'usageStartTime': '2018-06-12T00:00:00+00:00',\n",
       " 'usageEndTime': '2018-06-13T00:00:00+00:00',\n",
       " 'meterName': 'Premium Storage - Page Blob/P10 (Units)',\n",
       " 'meterRegion': 'US West',\n",
       " 'meterCategory': 'Storage',\n",
       " 'meterSubCategory': 'Locally Redundant',\n",
       " 'unit': 'Units',\n",
       " 'instanceData': '{\"Microsoft.Resources\":{\"resourceUri\":\"/subscriptions/3e6b71a1-1c47-4188-a4dc-793259a87549/resourceGroups/EPENDYSIS/providers/Microsoft.Compute/disks/ependysis_OsDisk_1_2b38d7f47ec74cd8a435155b4b732392\",\"location\":\"uswest\"}}',\n",
       " 'meterId': 'e9549cbe-02d9-4213-b4be-22d6dfe8a3af',\n",
       " 'infoFields': {},\n",
       " 'quantity': 0.001389}"
      ]
     },
     "execution_count": 5,
     "metadata": {},
     "output_type": "execute_result"
    }
   ],
   "source": [
    "df_usage.iloc[0]['properties']"
   ]
  },
  {
   "cell_type": "code",
   "execution_count": null,
   "metadata": {},
   "outputs": [],
   "source": []
  }
 ],
 "metadata": {
  "kernelspec": {
   "display_name": "Python 3",
   "language": "python",
   "name": "python3"
  },
  "language_info": {
   "codemirror_mode": {
    "name": "ipython",
    "version": 3
   },
   "file_extension": ".py",
   "mimetype": "text/x-python",
   "name": "python",
   "nbconvert_exporter": "python",
   "pygments_lexer": "ipython3",
   "version": "3.6.5"
  }
 },
 "nbformat": 4,
 "nbformat_minor": 2
}
