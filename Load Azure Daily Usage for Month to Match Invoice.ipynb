{
 "cells": [
  {
   "cell_type": "markdown",
   "metadata": {},
   "source": [
    "# Load Azure Daily Usage for Month to Match Invoice\n",
    "\n",
    "The API we are using reports daily or hourly usage based on a query of the date the usage was reported. \n",
    "\n",
    "Since there is some delay between when the usage occured and when the usage is reported, it is important to query for a day or so *before* the first day of the invoice billing period to make sure all usage is picked up. \n",
    "\n",
    "This notebook analyzes an invoice with a billing period from 6/12/2018 to 7/11/2018, so we will query reported usage between 6/10/2018 to 7/14/2018 and filter down the records returned to the 6/12/2018 to 7/11/2018 period based on the actual usage date. "
   ]
  },
  {
   "cell_type": "code",
   "execution_count": null,
   "metadata": {},
   "outputs": [],
   "source": [
    "import adal\n",
    "from msrestazure.azure_active_directory import AADTokenCredentials\n",
    "from dotenv import load_dotenv, find_dotenv\n",
    "import os\n",
    "load_dotenv(find_dotenv()) \n",
    "import pandas as pd\n",
    "import numpy as np"
   ]
  },
  {
   "cell_type": "code",
   "execution_count": null,
   "metadata": {},
   "outputs": [],
   "source": [
    "import requests\n",
    " \n",
    "# Parameters need for API\n",
    "subscription = os.getenv(\"SUBSCRIPTION\")\n",
    "tenant = os.getenv(\"TENANT\")\n",
    "client_id = os.getenv(\"CLIENT_ID\")\n",
    "client_secret = os.getenv(\"CLIENT_SECRET\")\n",
    "offer = 'MS-AZR-0003P'\n",
    "currency = 'USD'\n",
    "locale = 'en-US'\n",
    "region = 'US'"
   ]
  },
  {
   "cell_type": "code",
   "execution_count": null,
   "metadata": {},
   "outputs": [],
   "source": [
    "# using authentication with secret\n",
    "# To configure user service principal see \n",
    "# https://docs.microsoft.com/en-us/azure/role-based-access-control/role-assignments-portal\n",
    "# https://docs.microsoft.com/en-us/azure/azure-resource-manager/resource-group-create-service-principal-portal\n",
    "\n",
    "def authenticate_client_key(tenant, client_id, client_secret):\n",
    "    \"\"\"\n",
    "    Authenticate using service principal w/ key.\n",
    "    \"\"\"\n",
    "    authority_host_uri = 'https://login.microsoftonline.com'\n",
    "    authority_uri = authority_host_uri + '/' + tenant\n",
    "    resource_uri = 'https://management.core.windows.net/'\n",
    "    \n",
    "    context = adal.AuthenticationContext(authority_uri, api_version=None)\n",
    "    mgmt_token = context.acquire_token_with_client_credentials(resource_uri, client_id, client_secret)\n",
    "    credentials = AADTokenCredentials(mgmt_token, client_id)\n",
    "\n",
    "    return credentials\n"
   ]
  },
  {
   "cell_type": "code",
   "execution_count": null,
   "metadata": {},
   "outputs": [],
   "source": [
    "credentials = authenticate_client_key(tenant, client_id, client_secret)\n",
    "access_token = credentials.token.get('access_token')"
   ]
  },
  {
   "cell_type": "code",
   "execution_count": null,
   "metadata": {},
   "outputs": [],
   "source": [
    "azure_mgmt_uri = 'https://management.azure.com:443/subscriptions/{subscriptionId}'.format(subscriptionId = subscription)\n",
    "uri_str = \"{azure_mgmt_uri}/providers/Microsoft.Commerce/UsageAggregates?\" + \\\n",
    "    \"api-version=2015-06-01-preview&\" + \\\n",
    "    \"aggregationGranularity=Daily&\" + \\\n",
    "    \"reportedstartTime=2018-06-10+00%3a00%3a00Z&\" + \\\n",
    "    \"reportedEndTime=2018-07-14+00%3a00%3a00Z\"\n",
    "usage_url = uri_str.format(azure_mgmt_uri = azure_mgmt_uri)\n",
    "usage_url"
   ]
  },
  {
   "cell_type": "code",
   "execution_count": null,
   "metadata": {},
   "outputs": [],
   "source": [
    "response = requests.get(usage_url, allow_redirects=False, headers = {'Authorization': 'Bearer %s' %access_token})\n",
    "usage = response.json()"
   ]
  },
  {
   "cell_type": "code",
   "execution_count": null,
   "metadata": {},
   "outputs": [],
   "source": [
    "# pull the 'properties' key from each usage record and create a dataframe\n",
    "df_daily_usage_api = pd.DataFrame([x['properties'] for x in usage['value']])"
   ]
  },
  {
   "cell_type": "code",
   "execution_count": null,
   "metadata": {},
   "outputs": [],
   "source": [
    "# the API doesn't actually return aggregates by day\n",
    "# the date has to be summarized to get a result by day by resource\n",
    "df_by_day_group = df_daily_usage_api.groupby(['meterId','usageStartTime'])\n",
    "df_daily_usage = df_by_day_group.agg({\n",
    "    'usageEndTime': np.max,\n",
    "    'meterCategory': np.max, \n",
    "    'meterRegion': np.max, \n",
    "    'meterName': np.max, \n",
    "    'meterSubCategory' : np.max, \n",
    "    'subscriptionId': np.max, \n",
    "    'unit': np.max, \n",
    "    'quantity': np.sum})\n",
    "df_daily_usage = df_daily_usage.reset_index()\n"
   ]
  },
  {
   "cell_type": "code",
   "execution_count": null,
   "metadata": {},
   "outputs": [],
   "source": [
    "# clean up column data types\n",
    "for col in ['meterCategory', 'meterRegion', 'meterName', 'meterSubCategory', 'subscriptionId', 'unit']:\n",
    "    df_daily_usage[col] = df_daily_usage[col].astype('category')\n",
    "    \n",
    "df_daily_usage['usageEndTime'] = pd.to_datetime(df_daily_usage['usageEndTime'])\n",
    "df_daily_usage['usageStartTime'] = pd.to_datetime(df_daily_usage['usageStartTime'])\n",
    "df_daily_usage.dtypes"
   ]
  },
  {
   "cell_type": "code",
   "execution_count": null,
   "metadata": {},
   "outputs": [],
   "source": [
    "df_daily_usage"
   ]
  },
  {
   "cell_type": "code",
   "execution_count": null,
   "metadata": {},
   "outputs": [],
   "source": [
    "len(df_daily_usage)"
   ]
  },
  {
   "cell_type": "code",
   "execution_count": null,
   "metadata": {},
   "outputs": [],
   "source": [
    "# filter usage to dates from 6/12/2018 to 7/11/2018\n",
    "import datetime\n",
    "from_date = pd.Timestamp(datetime.date(2018, 6, 12))\n",
    "to_date = pd.Timestamp(datetime.date(2018, 7, 11))\n",
    "df_invoice_daily_usage = df_daily_usage.loc[(df_daily_usage['usageStartTime'] >= from_date) & (df_daily_usage['usageStartTime'] <= to_date)]"
   ]
  },
  {
   "cell_type": "code",
   "execution_count": null,
   "metadata": {},
   "outputs": [],
   "source": [
    "len(df_invoice_daily_usage)"
   ]
  },
  {
   "cell_type": "code",
   "execution_count": null,
   "metadata": {},
   "outputs": [],
   "source": [
    "df_invoice_daily_usage['usageEndTime'].unique()"
   ]
  },
  {
   "cell_type": "code",
   "execution_count": null,
   "metadata": {},
   "outputs": [],
   "source": [
    "# pickle everything\n",
    "import pickle\n",
    "pickle.dump( df_invoice_daily_usage, open( \"df_invoice_daily_usage.p\", \"wb\" ) )\n",
    "pickle.dump( df_daily_usage_api, open( \"df_daily_usage_api.p\", \"wb\" ) )"
   ]
  },
  {
   "cell_type": "code",
   "execution_count": null,
   "metadata": {},
   "outputs": [],
   "source": [
    "# 2018-06-16\t65d4ded2-41ae-43a8-bb68-3c200e1ba864\n",
    "import datetime\n",
    "usage_date = pd.Timestamp(datetime.date(2018, 6, 16))\n",
    "\n",
    "df_daily_usage.loc[(df_daily_usage['meterId'] == '65d4ded2-41ae-43a8-bb68-3c200e1ba864') & (df_daily_usage['usageStartTime'] == usage_date)]"
   ]
  },
  {
   "cell_type": "code",
   "execution_count": null,
   "metadata": {},
   "outputs": [],
   "source": []
  }
 ],
 "metadata": {
  "kernelspec": {
   "display_name": "Python 3",
   "language": "python",
   "name": "python3"
  },
  "language_info": {
   "codemirror_mode": {
    "name": "ipython",
    "version": 3
   },
   "file_extension": ".py",
   "mimetype": "text/x-python",
   "name": "python",
   "nbconvert_exporter": "python",
   "pygments_lexer": "ipython3",
   "version": "3.6.5"
  }
 },
 "nbformat": 4,
 "nbformat_minor": 2
}
